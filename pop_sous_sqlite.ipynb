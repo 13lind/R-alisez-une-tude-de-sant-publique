{
 "cells": [
  {
   "cell_type": "code",
   "execution_count": 4,
   "id": "28362879",
   "metadata": {},
   "outputs": [],
   "source": [
    "\n",
    "import sqlite3 as sql"
   ]
  },
  {
   "cell_type": "code",
   "execution_count": 5,
   "id": "52d8c1ce",
   "metadata": {},
   "outputs": [],
   "source": [
    "#def conection et cursor\n",
    "conn = sql.connect(\"pop_sou.db\")\n",
    "cursor = conn.cursor()"
   ]
  },
  {
   "cell_type": "code",
   "execution_count": 6,
   "id": "4c4d3dbe",
   "metadata": {},
   "outputs": [],
   "source": [
    "#creation table\n",
    "\n",
    "\n",
    "conn.execute('''CREATE TABLE FAIM_2013 ( Code_Pays INTEGER, Pays TEXT, Habitant INTEGER, Nb_sous FLOAT, Nb_personne_per FLOAT);''')\n",
    "# ajout rows\n",
    "\n",
    "conn.execute('''INSERT INTO FAIM_2013(Code_Pays, Pays, Habitant, Nb_sous, Nb_personne_per) VALUES (251, 'Zambie', 14539000, 7000000.0, 48.15 )''')\n",
    "conn.execute('''INSERT INTO FAIM_2013(Code_Pays, Pays, Habitant, Nb_sous, Nb_personne_per) VALUES (181, 'Zimbabwe', 14150000, 6600000.0, 46.64 )''')\n",
    "conn.execute('''INSERT INTO FAIM_2013(Code_Pays, Pays, Habitant, Nb_sous, Nb_personne_per) VALUES (116, 'République populaire démocratique de Corée', 24895000, 10600000.0, 42.58 )''')\n",
    "conn.execute('''INSERT INTO FAIM_2013(Code_Pays, Pays, Habitant, Nb_sous, Nb_personne_per) VALUES (37, 'République centrafricaine', 4616000, 2000000.0, 43.33 )''')\n",
    "conn.execute('''INSERT INTO FAIM_2013(Code_Pays, Pays, Habitant, Nb_sous, Nb_personne_per) VALUES (93, 'Haïti', 10317000, 5200000.0, 50.4 )''')\n",
    "\n",
    "\n",
    "conn.commit()\n",
    "conn.close()\n",
    "\n",
    "\n"
   ]
  },
  {
   "cell_type": "code",
   "execution_count": null,
   "id": "5aa4414c",
   "metadata": {},
   "outputs": [],
   "source": []
  },
  {
   "cell_type": "code",
   "execution_count": null,
   "id": "f6eff082",
   "metadata": {},
   "outputs": [],
   "source": []
  }
 ],
 "metadata": {
  "kernelspec": {
   "display_name": "Python 3",
   "language": "python",
   "name": "python3"
  },
  "language_info": {
   "codemirror_mode": {
    "name": "ipython",
    "version": 3
   },
   "file_extension": ".py",
   "mimetype": "text/x-python",
   "name": "python",
   "nbconvert_exporter": "python",
   "pygments_lexer": "ipython3",
   "version": "3.8.8"
  }
 },
 "nbformat": 4,
 "nbformat_minor": 5
}
